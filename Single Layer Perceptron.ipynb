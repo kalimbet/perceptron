{
 "cells": [
  {
   "cell_type": "markdown",
   "metadata": {},
   "source": [
    "# Single Layer Perceptron\n"
   ]
  },
  {
   "cell_type": "code",
   "execution_count": 1,
   "metadata": {},
   "outputs": [],
   "source": [
    "weightsList = list(range(1, 11))\n",
    "input_arr_neuron_in = []\n",
    "input_arr_neuron_cfg = []\n",
    "index = 0\n",
    "signal_outpute = \"\""
   ]
  },
  {
   "cell_type": "code",
   "execution_count": 2,
   "metadata": {},
   "outputs": [],
   "source": [
    "file_neuron_in = open('neuron.in', 'r')\n",
    "for line in file_neuron_in:\n",
    "    input_arr_neuron_in.append(line.replace(' ', '').strip())\n",
    "file_neuron_in.close()\n",
    "\n",
    "file_neuron_out = open('neuron1.out', 'r')\n",
    "neuron_out = file_neuron_out.read()\n",
    "file_neuron_out.close()\n",
    "\n",
    "file = open('neuron.cfg', 'r')\n",
    "for line in file:\n",
    "    input_arr_neuron_cfg.append(int(line.replace(' ', '').strip()))\n",
    "file.close()"
   ]
  },
  {
   "cell_type": "code",
   "execution_count": 3,
   "metadata": {},
   "outputs": [],
   "source": [
    "def signal(sum):\n",
    "    if sum >= input_arr_neuron_cfg[0]:\n",
    "        return 1\n",
    "    else:\n",
    "        return 0"
   ]
  },
  {
   "cell_type": "code",
   "execution_count": 4,
   "metadata": {},
   "outputs": [],
   "source": [
    "for i in range(len(input_arr_neuron_in[0])):\n",
    "    row = 1\n",
    "    sum = 0\n",
    "    for line in input_arr_neuron_in:\n",
    "        sum += int(line[index]) * int(input_arr_neuron_cfg[row])\n",
    "        row += 1\n",
    "    index += 1\n",
    "    signal_outpute += str(signal(sum))"
   ]
  },
  {
   "cell_type": "code",
   "execution_count": 5,
   "metadata": {},
   "outputs": [
    {
     "name": "stdout",
     "output_type": "stream",
     "text": [
      "Correct!\n",
      "Neuron out: 10000011111111111011110011110110110011101000110011001101111111010101100110111110\n",
      "Result:     10000011111111111011110011110110110011101000110011001101111111010101100110111110\n"
     ]
    }
   ],
   "source": [
    "if neuron_out == signal_outpute:\n",
    "    print('Correct!')\n",
    "    print('Neuron out:',neuron_out)\n",
    "    print('Result:    ',signal_outpute)\n",
    "\n",
    "else:\n",
    "    print('Incorrect')\n",
    "    print('Neuron out:',neuron_out)\n",
    "    print('Result:    ',signal_outpute)"
   ]
  },
  {
   "cell_type": "code",
   "execution_count": null,
   "metadata": {},
   "outputs": [],
   "source": []
  }
 ],
 "metadata": {
  "kernelspec": {
   "display_name": "Python 3",
   "language": "python",
   "name": "python3"
  },
  "language_info": {
   "codemirror_mode": {
    "name": "ipython",
    "version": 3
   },
   "file_extension": ".py",
   "mimetype": "text/x-python",
   "name": "python",
   "nbconvert_exporter": "python",
   "pygments_lexer": "ipython3",
   "version": "3.7.1"
  }
 },
 "nbformat": 4,
 "nbformat_minor": 2
}
